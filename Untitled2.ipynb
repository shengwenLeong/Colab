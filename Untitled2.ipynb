{
  "nbformat": 4,
  "nbformat_minor": 0,
  "metadata": {
    "colab": {
      "name": "Untitled2.ipynb",
      "provenance": [],
      "collapsed_sections": [],
      "authorship_tag": "ABX9TyNxB3jO5iMtD0ST9yWCao+s",
      "include_colab_link": true
    },
    "kernelspec": {
      "name": "python3",
      "display_name": "Python 3"
    },
    "language_info": {
      "name": "python"
    }
  },
  "cells": [
    {
      "cell_type": "markdown",
      "metadata": {
        "id": "view-in-github",
        "colab_type": "text"
      },
      "source": [
        "<a href=\"https://colab.research.google.com/github/shengwenLeong/Colab/blob/main/Untitled2.ipynb\" target=\"_parent\"><img src=\"https://colab.research.google.com/assets/colab-badge.svg\" alt=\"Open In Colab\"/></a>"
      ]
    },
    {
      "cell_type": "code",
      "source": [
        "!pip install keras-flops"
      ],
      "metadata": {
        "colab": {
          "base_uri": "https://localhost:8080/"
        },
        "id": "HADgAMWhH91f",
        "outputId": "90939111-8883-4a59-e821-66dfdc66eeae"
      },
      "execution_count": 31,
      "outputs": [
        {
          "output_type": "stream",
          "name": "stdout",
          "text": [
            "Looking in indexes: https://pypi.org/simple, https://us-python.pkg.dev/colab-wheels/public/simple/\n",
            "Requirement already satisfied: keras-flops in /usr/local/lib/python3.7/dist-packages (0.1.2)\n",
            "Requirement already satisfied: tensorflow<3.0,>=2.2 in /usr/local/lib/python3.7/dist-packages (from keras-flops) (2.8.0+zzzcolab20220506162203)\n",
            "Requirement already satisfied: setuptools in /usr/local/lib/python3.7/dist-packages (from tensorflow<3.0,>=2.2->keras-flops) (57.4.0)\n",
            "Requirement already satisfied: termcolor>=1.1.0 in /usr/local/lib/python3.7/dist-packages (from tensorflow<3.0,>=2.2->keras-flops) (1.1.0)\n",
            "Requirement already satisfied: protobuf>=3.9.2 in /usr/local/lib/python3.7/dist-packages (from tensorflow<3.0,>=2.2->keras-flops) (3.17.3)\n",
            "Requirement already satisfied: tensorboard<2.9,>=2.8 in /usr/local/lib/python3.7/dist-packages (from tensorflow<3.0,>=2.2->keras-flops) (2.8.0)\n",
            "Requirement already satisfied: absl-py>=0.4.0 in /usr/local/lib/python3.7/dist-packages (from tensorflow<3.0,>=2.2->keras-flops) (1.0.0)\n",
            "Requirement already satisfied: typing-extensions>=3.6.6 in /usr/local/lib/python3.7/dist-packages (from tensorflow<3.0,>=2.2->keras-flops) (4.2.0)\n",
            "Requirement already satisfied: tf-estimator-nightly==2.8.0.dev2021122109 in /usr/local/lib/python3.7/dist-packages (from tensorflow<3.0,>=2.2->keras-flops) (2.8.0.dev2021122109)\n",
            "Requirement already satisfied: h5py>=2.9.0 in /usr/local/lib/python3.7/dist-packages (from tensorflow<3.0,>=2.2->keras-flops) (3.1.0)\n",
            "Requirement already satisfied: grpcio<2.0,>=1.24.3 in /usr/local/lib/python3.7/dist-packages (from tensorflow<3.0,>=2.2->keras-flops) (1.46.1)\n",
            "Requirement already satisfied: tensorflow-io-gcs-filesystem>=0.23.1 in /usr/local/lib/python3.7/dist-packages (from tensorflow<3.0,>=2.2->keras-flops) (0.26.0)\n",
            "Requirement already satisfied: google-pasta>=0.1.1 in /usr/local/lib/python3.7/dist-packages (from tensorflow<3.0,>=2.2->keras-flops) (0.2.0)\n",
            "Requirement already satisfied: six>=1.12.0 in /usr/local/lib/python3.7/dist-packages (from tensorflow<3.0,>=2.2->keras-flops) (1.15.0)\n",
            "Requirement already satisfied: libclang>=9.0.1 in /usr/local/lib/python3.7/dist-packages (from tensorflow<3.0,>=2.2->keras-flops) (14.0.1)\n",
            "Requirement already satisfied: keras<2.9,>=2.8.0rc0 in /usr/local/lib/python3.7/dist-packages (from tensorflow<3.0,>=2.2->keras-flops) (2.8.0)\n",
            "Requirement already satisfied: astunparse>=1.6.0 in /usr/local/lib/python3.7/dist-packages (from tensorflow<3.0,>=2.2->keras-flops) (1.6.3)\n",
            "Requirement already satisfied: opt-einsum>=2.3.2 in /usr/local/lib/python3.7/dist-packages (from tensorflow<3.0,>=2.2->keras-flops) (3.3.0)\n",
            "Requirement already satisfied: wrapt>=1.11.0 in /usr/local/lib/python3.7/dist-packages (from tensorflow<3.0,>=2.2->keras-flops) (1.14.1)\n",
            "Requirement already satisfied: flatbuffers>=1.12 in /usr/local/lib/python3.7/dist-packages (from tensorflow<3.0,>=2.2->keras-flops) (2.0)\n",
            "Requirement already satisfied: keras-preprocessing>=1.1.1 in /usr/local/lib/python3.7/dist-packages (from tensorflow<3.0,>=2.2->keras-flops) (1.1.2)\n",
            "Requirement already satisfied: numpy>=1.20 in /usr/local/lib/python3.7/dist-packages (from tensorflow<3.0,>=2.2->keras-flops) (1.21.6)\n",
            "Requirement already satisfied: gast>=0.2.1 in /usr/local/lib/python3.7/dist-packages (from tensorflow<3.0,>=2.2->keras-flops) (0.5.3)\n",
            "Requirement already satisfied: wheel<1.0,>=0.23.0 in /usr/local/lib/python3.7/dist-packages (from astunparse>=1.6.0->tensorflow<3.0,>=2.2->keras-flops) (0.37.1)\n",
            "Requirement already satisfied: cached-property in /usr/local/lib/python3.7/dist-packages (from h5py>=2.9.0->tensorflow<3.0,>=2.2->keras-flops) (1.5.2)\n",
            "Requirement already satisfied: tensorboard-data-server<0.7.0,>=0.6.0 in /usr/local/lib/python3.7/dist-packages (from tensorboard<2.9,>=2.8->tensorflow<3.0,>=2.2->keras-flops) (0.6.1)\n",
            "Requirement already satisfied: werkzeug>=0.11.15 in /usr/local/lib/python3.7/dist-packages (from tensorboard<2.9,>=2.8->tensorflow<3.0,>=2.2->keras-flops) (1.0.1)\n",
            "Requirement already satisfied: requests<3,>=2.21.0 in /usr/local/lib/python3.7/dist-packages (from tensorboard<2.9,>=2.8->tensorflow<3.0,>=2.2->keras-flops) (2.23.0)\n",
            "Requirement already satisfied: google-auth-oauthlib<0.5,>=0.4.1 in /usr/local/lib/python3.7/dist-packages (from tensorboard<2.9,>=2.8->tensorflow<3.0,>=2.2->keras-flops) (0.4.6)\n",
            "Requirement already satisfied: tensorboard-plugin-wit>=1.6.0 in /usr/local/lib/python3.7/dist-packages (from tensorboard<2.9,>=2.8->tensorflow<3.0,>=2.2->keras-flops) (1.8.1)\n",
            "Requirement already satisfied: markdown>=2.6.8 in /usr/local/lib/python3.7/dist-packages (from tensorboard<2.9,>=2.8->tensorflow<3.0,>=2.2->keras-flops) (3.3.7)\n",
            "Requirement already satisfied: google-auth<3,>=1.6.3 in /usr/local/lib/python3.7/dist-packages (from tensorboard<2.9,>=2.8->tensorflow<3.0,>=2.2->keras-flops) (1.35.0)\n",
            "Requirement already satisfied: cachetools<5.0,>=2.0.0 in /usr/local/lib/python3.7/dist-packages (from google-auth<3,>=1.6.3->tensorboard<2.9,>=2.8->tensorflow<3.0,>=2.2->keras-flops) (4.2.4)\n",
            "Requirement already satisfied: rsa<5,>=3.1.4 in /usr/local/lib/python3.7/dist-packages (from google-auth<3,>=1.6.3->tensorboard<2.9,>=2.8->tensorflow<3.0,>=2.2->keras-flops) (4.8)\n",
            "Requirement already satisfied: pyasn1-modules>=0.2.1 in /usr/local/lib/python3.7/dist-packages (from google-auth<3,>=1.6.3->tensorboard<2.9,>=2.8->tensorflow<3.0,>=2.2->keras-flops) (0.2.8)\n",
            "Requirement already satisfied: requests-oauthlib>=0.7.0 in /usr/local/lib/python3.7/dist-packages (from google-auth-oauthlib<0.5,>=0.4.1->tensorboard<2.9,>=2.8->tensorflow<3.0,>=2.2->keras-flops) (1.3.1)\n",
            "Requirement already satisfied: importlib-metadata>=4.4 in /usr/local/lib/python3.7/dist-packages (from markdown>=2.6.8->tensorboard<2.9,>=2.8->tensorflow<3.0,>=2.2->keras-flops) (4.11.3)\n",
            "Requirement already satisfied: zipp>=0.5 in /usr/local/lib/python3.7/dist-packages (from importlib-metadata>=4.4->markdown>=2.6.8->tensorboard<2.9,>=2.8->tensorflow<3.0,>=2.2->keras-flops) (3.8.0)\n",
            "Requirement already satisfied: pyasn1<0.5.0,>=0.4.6 in /usr/local/lib/python3.7/dist-packages (from pyasn1-modules>=0.2.1->google-auth<3,>=1.6.3->tensorboard<2.9,>=2.8->tensorflow<3.0,>=2.2->keras-flops) (0.4.8)\n",
            "Requirement already satisfied: urllib3!=1.25.0,!=1.25.1,<1.26,>=1.21.1 in /usr/local/lib/python3.7/dist-packages (from requests<3,>=2.21.0->tensorboard<2.9,>=2.8->tensorflow<3.0,>=2.2->keras-flops) (1.24.3)\n",
            "Requirement already satisfied: idna<3,>=2.5 in /usr/local/lib/python3.7/dist-packages (from requests<3,>=2.21.0->tensorboard<2.9,>=2.8->tensorflow<3.0,>=2.2->keras-flops) (2.10)\n",
            "Requirement already satisfied: chardet<4,>=3.0.2 in /usr/local/lib/python3.7/dist-packages (from requests<3,>=2.21.0->tensorboard<2.9,>=2.8->tensorflow<3.0,>=2.2->keras-flops) (3.0.4)\n",
            "Requirement already satisfied: certifi>=2017.4.17 in /usr/local/lib/python3.7/dist-packages (from requests<3,>=2.21.0->tensorboard<2.9,>=2.8->tensorflow<3.0,>=2.2->keras-flops) (2022.5.18.1)\n",
            "Requirement already satisfied: oauthlib>=3.0.0 in /usr/local/lib/python3.7/dist-packages (from requests-oauthlib>=0.7.0->google-auth-oauthlib<0.5,>=0.4.1->tensorboard<2.9,>=2.8->tensorflow<3.0,>=2.2->keras-flops) (3.2.0)\n"
          ]
        }
      ]
    },
    {
      "cell_type": "code",
      "source": [
        "import tensorflow as tf\n",
        "# encoder\n",
        "img     = tf.keras.Input(shape=(512, 384, 16), name=\"img_1\")\n",
        "img_pre = tf.keras.Input(shape=(256, 192, 32), name=\"img_pre\")\n",
        "\n",
        "conv_0 = tf.keras.layers.Conv2D(32, 3, padding = 'same', activation=\"relu\")(img)\n",
        "avgpool_1 = tf.keras.layers.AveragePooling2D(pool_size=(2, 2), strides=(2, 2))(conv_0)\n",
        "#\n",
        "conv_2 = tf.keras.layers.Conv2D(32, 3, padding = 'same', activation=\"relu\")(avgpool_1)\n",
        "conv_3 = tf.keras.layers.Conv2D(32, 3, padding = 'same', activation=\"relu\")(conv_2)\n",
        "#\n",
        "pre_conv_0 = tf.keras.layers.Conv2D(32, 3, padding = 'same', activation=\"relu\")(img_pre) \n",
        "pre_conv_1 = tf.keras.layers.Conv2D(32, 3, padding = 'same', activation=\"relu\")(pre_conv_0)\n",
        "#\n",
        "concat_4 = tf.keras.layers.Concatenate(axis=3)([conv_3, pre_conv_1])\n",
        "#\n",
        "conv_5 = tf.keras.layers.Conv2D(64, 3, padding = 'same', activation=\"relu\")(concat_4)\n",
        "#\n",
        "split, out_pre  = tf.split(conv_5, num_or_size_splits=2, axis=3)\n",
        "#\n",
        "avgpool_6 = tf.keras.layers.AveragePooling2D(pool_size=(2, 2), strides=(2, 2))(split)  \n",
        "conv_7 = tf.keras.layers.Conv2D(64, 1, padding = 'same', activation=\"relu\")(avgpool_6)\n",
        "#\n",
        "conv_8 = tf.keras.layers.Conv2D(64, 3, padding = 'same', activation=\"relu\")(conv_7)\n",
        "conv_9   = tf.keras.layers.Conv2D(64, 1, padding = 'same', activation=\"relu\")(conv_8)\n",
        "convTr_10 = tf.keras.layers.Conv2DTranspose(64, 2, strides=(2, 2), activation=\"relu\")(conv_9)\n",
        "#\n",
        "concat_11 = tf.keras.layers.Concatenate(axis=3)([convTr_10, split])\n",
        "#\n",
        "conv_12 = tf.keras.layers.Conv2D(96, 3, padding = 'same', activation=\"relu\")(concat_11)\n",
        "conv_13   = tf.keras.layers.Conv2D(96, 1, padding = 'same', activation=\"relu\")(conv_12)\n",
        "convTr_14 = tf.keras.layers.Conv2DTranspose(32, 2, strides=(2, 2), activation=\"relu\")(conv_13)\n",
        "#\n",
        "concat_15 = tf.keras.layers.Concatenate(axis=3)([convTr_14, conv_0])\n",
        "#\n",
        "conv_16 = tf.keras.layers.Conv2D(32, 3, padding = 'same', activation=\"relu\")(concat_15)\n",
        "conv_17   = tf.keras.layers.Conv2D(32, 3, padding = 'same', activation=\"relu\")(conv_16)\n",
        "conv_18   = tf.keras.layers.Conv2D(16, 1, padding = 'same', activation=\"relu\")(conv_17)\n",
        "\n",
        "isp = tf.keras.Model(inputs=[img, img_pre], outputs=[conv_18, out_pre], name=\"isp_model\")\n",
        "# Calculae FLOPS\n",
        "flops = get_flops(isp, batch_size=1)\n",
        "print(f\"FLOPS: {flops / 10 ** 9:.03} G\")\n",
        "# >>> FLOPS: 0.0338 G"
      ],
      "metadata": {
        "colab": {
          "base_uri": "https://localhost:8080/"
        },
        "id": "g-H9YCakITH_",
        "outputId": "d9f853d3-af55-4f12-81e2-473f67f8bbdc"
      },
      "execution_count": 32,
      "outputs": [
        {
          "output_type": "stream",
          "name": "stdout",
          "text": [
            "FLOPS: 31.9 G\n"
          ]
        }
      ]
    }
  ]
}