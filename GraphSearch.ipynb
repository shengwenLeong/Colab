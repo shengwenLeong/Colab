{
  "nbformat": 4,
  "nbformat_minor": 0,
  "metadata": {
    "colab": {
      "name": "GraphSearch",
      "provenance": [],
      "collapsed_sections": [],
      "authorship_tag": "ABX9TyNJPAK++hFXV5Ozyq+b6CEY",
      "include_colab_link": true
    },
    "kernelspec": {
      "name": "python3",
      "display_name": "Python 3"
    },
    "language_info": {
      "name": "python"
    }
  },
  "cells": [
    {
      "cell_type": "markdown",
      "metadata": {
        "id": "view-in-github",
        "colab_type": "text"
      },
      "source": [
        "<a href=\"https://colab.research.google.com/github/shengwenLeong/Colab/blob/main/GraphSearch.ipynb\" target=\"_parent\"><img src=\"https://colab.research.google.com/assets/colab-badge.svg\" alt=\"Open In Colab\"/></a>"
      ]
    },
    {
      "cell_type": "code",
      "metadata": {
        "id": "6KtKTLtkdQim"
      },
      "source": [
        "!pip install bitarray\n",
        "import networkx as nx\n",
        "import matplotlib.pyplot as plt\n",
        "import numpy as np\n",
        "from scipy.spatial.distance import pdist, squareform\n",
        "#from queue import PriorityQueue"
      ],
      "execution_count": 74,
      "outputs": []
    },
    {
      "cell_type": "code",
      "metadata": {
        "id": "nwp9dMknd3i1"
      },
      "source": [
        "class ConstructKnnGraph:\n",
        "  def __init__(self, vertex_number, k_value):\n",
        "    self.G = nx.DiGraph()\n",
        "    self.vertex_number = vertex_number\n",
        "    self.k_value = k_value\n",
        "  \n",
        "  def KnnGraph(self):\n",
        "    data = np.random.rand(self.vertex_number,2)\n",
        "    for i in range(data.shape[0]):\n",
        "      self.G.add_node(i, pos=(data[i][0], data[i][1]))\n",
        "      self.G.add_node(i, prop=)\n",
        "      self.G.add_node(i, accum=0)\n",
        "    for i in range(data.shape[0]):\n",
        "      query = data[i]\n",
        "      dist = {}\n",
        "      for t in range(data.shape[0]):\n",
        "        if t==i:\n",
        "          continue\n",
        "        dist[t] = np.linalg.norm(data[t] - query)\n",
        "        #print(\"query={}, nn={}, distance={}\".format(i,t,dist))\n",
        "      vertexSort = sorted(dist.items(), key=lambda dist:dist[1], reverse=False)[:self.k_value]\n",
        "      for vertex in vertexSort:\n",
        "        self.G.add_edge(i, vertex[0])\n",
        "        #print(\"edge=({},{})\".format(i, vertex[0]))\n",
        "  def DrawGraph(self):\n",
        "    node_pos = nx.get_node_attributes(self.G, 'pos')\n",
        "    nx.draw_networkx(self.G, node_pos)\n",
        "    # Show the plot\n",
        "    plt.show()"
      ],
      "execution_count": 75,
      "outputs": []
    },
    {
      "cell_type": "code",
      "metadata": {
        "colab": {
          "base_uri": "https://localhost:8080/",
          "height": 248
        },
        "id": "3vnosai3d7AI",
        "outputId": "e1852293-0195-4dab-8cfe-3949f85c8eee"
      },
      "source": [
        "KGraph = ConstructKnnGraph(10, 4)\n",
        "KGraph.KnnGraph()\n",
        "KGraph.DrawGraph()"
      ],
      "execution_count": 76,
      "outputs": [
        {
          "output_type": "display_data",
          "data": {
            "image/png": "[encoded data removed]",
            "text/plain": [
              "<Figure size 432x288 with 1 Axes>"
            ]
          },
          "metadata": {}
        }
      ]
    },
    {
      "cell_type": "code",
      "metadata": {
        "id": "GEQtUxB9o_VZ"
      },
      "source": [
        "class PriorityQueueNode:\n",
        "  def __init__(self, value, pr, pos, visited):\n",
        "    self.data = value\n",
        "    self.priority = pr\n",
        "    self.pos = pos\n",
        "    self.visited = visited\n",
        "    self.next = None\n",
        "         \n",
        "# Implementation of Priority Queue\n",
        "class PriorityQueue:\n",
        "  def __init__(self):\n",
        "    self.front = None\n",
        "    self.queue_size = 0\n",
        "         \n",
        "  #Method to check Priority Queue is Empty\n",
        "  #or not if Empty then it will return True\n",
        "  #Otherwise False\n",
        "  def isEmpty(self):\n",
        "    return True if self.front == None else False \n",
        "  # Method to add items in Priority Queue\n",
        "  # According to their priority value\n",
        "  def push(self, value, priority):\n",
        "    # Condition check for checking Priority\n",
        "    # Queue is empty or not\n",
        "    if self.isEmpty() == True:\n",
        "      #print(\"init insert={},{}\".format(value, priority))\n",
        "      # Creating a new node and assigning\n",
        "      # it to class variable\n",
        "      self.front = PriorityQueueNode(value, priority, pos=0, visited=0)\n",
        "      self.queue_size = self.queue_size + 1\n",
        "      # Returning 1 for successful execution\n",
        "      return 1, 0\n",
        "    else:\n",
        "      # Special condition check to see that\n",
        "      # first node priority value\n",
        "      if self.front.priority > priority:\n",
        "        #print(\"insert ={},{} > {},{}\".format(self.front.data, self.front.priority, value, priority))\n",
        "        # Creating a new node\n",
        "        pos = 0\n",
        "        newNode = PriorityQueueNode(value, priority, pos=pos, visited=0)\n",
        "        # Updating the new node next value\n",
        "        newNode.next = self.front\n",
        "                 \n",
        "        # Assigning it to self.front\n",
        "        self.front = newNode\n",
        "        temp = self.front\n",
        "        while temp.next:\n",
        "          pos = temp.pos\n",
        "          temp = temp.next\n",
        "          temp.pos = pos + 1\n",
        "        pos = self.queue_size\n",
        "        self.queue_size = self.queue_size + 1\n",
        "                 \n",
        "        # Returning 1 for successful execution\n",
        "        return 1, pos\n",
        "                 \n",
        "      else:\n",
        "        # Traversing through Queue until it\n",
        "        # finds the next smaller priority node\n",
        "        #print(\"insert={},{} < {},{}\".format(self.front.data, self.front.priority, value, priority))\n",
        "        temp = self.front\n",
        "        while temp.next:\n",
        "          # If same priority node found then current\n",
        "          # node will come after previous node\n",
        "          if priority <= temp.next.priority:\n",
        "            break\n",
        "          temp = temp.next\n",
        "        pos = temp.pos + 1\n",
        "        newNode = PriorityQueueNode(value, priority, pos=pos, visited=0)\n",
        "        newNode.next = temp.next\n",
        "        temp.next = newNode\n",
        "        while temp.next:\n",
        "          temp_pos = temp.pos + 1\n",
        "          temp = temp.next\n",
        "          temp.pos = temp_pos\n",
        "        self.queue_size = self.queue_size + 1\n",
        "        # Returning 1 for successful execution\n",
        "        return 1, pos\n",
        "  # Method to remove high priority item\n",
        "  # from the Priority Queue\n",
        "  def pop(self): \n",
        "    # Condition check for checking\n",
        "    # Priority Queue is empty or not\n",
        "    if self.isEmpty() == True:\n",
        "      return \n",
        "    else:\n",
        "      # Removing high priority node from\n",
        "      # Priority Queue, and updating front\n",
        "      # with next node\n",
        "      self.front = self.front.next\n",
        "      return 1\n",
        "\n",
        "  def pop_index(self, index):\n",
        "    if self.isEmpty() == True:\n",
        "      return \n",
        "    else:\n",
        "      temp = self.front\n",
        "      count = 0\n",
        "      while count < index:\n",
        "        temp = temp.next\n",
        "        count = count + 1\n",
        "      return temp.data\n",
        "\n",
        "  def set_flag(self, vertex):\n",
        "    if self.isEmpty() == True:\n",
        "      return \n",
        "    else:\n",
        "      temp = self.front\n",
        "      while temp.data != vertex:\n",
        "        temp = temp.next\n",
        "      temp.visited = 1\n",
        "    return 1\n",
        "        \n",
        "\n",
        "  def pop_flag(self):\n",
        "    if self.isEmpty() == True:\n",
        "      return \n",
        "    else:\n",
        "      result = self.front\n",
        "      if (self.front.next == None):\n",
        "        return result.data\n",
        "      temp = self.front.next\n",
        "      while temp.visited == 1:\n",
        "        temp = temp.next\n",
        "      self.front = temp\n",
        "      return result.data\n",
        "             \n",
        "  # Method to return high priority node\n",
        "  # value Not removing it\n",
        "  def peek(self):\n",
        "    # Condition check for checking Priority\n",
        "    # Queue is empty or not\n",
        "    if self.isEmpty() == True:\n",
        "      return\n",
        "    else:\n",
        "      return self.front.data    \n",
        "  # Method to Traverse through Priority\n",
        "  # Queue\n",
        "  def traverse(self):\n",
        "    # Condition check for checking Priority\n",
        "    # Queue is empty or not\n",
        "    if self.isEmpty() == True:\n",
        "      return \"Queue is Empty!\"\n",
        "    else:\n",
        "      temp = self.front\n",
        "      while temp:\n",
        "        print(\"({}, {}, {})\".format(temp.data, temp.pos, temp.visited))\n",
        "        temp = temp.next"
      ],
      "execution_count": 230,
      "outputs": []
    },
    {
      "cell_type": "code",
      "metadata": {
        "id": "IsTF0P0ZNBMx"
      },
      "source": [
        "import sys\n",
        "from bitarray import bitarray\n",
        "MAX_PROP = sys.maxsize - 1\n",
        "class GraphFramework:\n",
        "  def __init__(self, inputGraph, query):\n",
        "    self.G = inputGraph\n",
        "    self.active_edges = []\n",
        "    self.update = []\n",
        "    self.vertex = self.G.nodes()\n",
        "    self.initVertex = [2,6]\n",
        "    self.BIT_MASK = 0x80000000\n",
        "    self.query = query\n",
        "    self.result_queue = PriorityQueue()\n",
        "    self.bit_mask = bitarray(self.G.number_of_nodes())\n",
        "  \n",
        "  def preProcess(self):\n",
        "    self.bit_mask.setall(0)\n",
        "    self.bit_mask[4] = 1\n",
        "    for v in self.initVertex:\n",
        "      dist = np.linalg.norm(np.asarray(self.G.nodes[v]['pos']) - np.asarray(query))\n",
        "      self.result_queue.push(v, dist)\n",
        "      self.result_queue.set_flag(v)\n",
        "      self.bit_mask[v] = 1\n",
        "\n",
        "    for e in self.G.neighbors(self.result_queue.pop_flag()):\n",
        "      if (self.bit_mask[e] == 0):\n",
        "        self.active_edges.append(e)\n",
        "      self.bit_mask[self.result_queue.peek()] = 1    \n",
        "  \n",
        "  def Scatter(self, dstProp):\n",
        "    return np.linalg.norm(np.asarray(dstProp) - np.asarray(self.query)) #value\n",
        "  \n",
        "  def Gather(self):\n",
        "    None\n",
        "    \n",
        "\n",
        "  def run(self):\n",
        "    self.preProcess()\n",
        "    for e in self.active_edges:\n",
        "      dstProp = self.G.nodes[e]['pos']\n",
        "      dist = self.Scatter(dstProp)\n",
        "      self.update.append((e, dist))\n",
        "    self.result_queue.traverse()\n",
        "    for e,dist in self.update:\n",
        "      print(\"update=({}, {})\".format(e, dist))\n",
        "      index = self.result_queue.push(e, dist)\n",
        "      #print(index)\n",
        "      self.result_queue.traverse()\n",
        "      #index = self.result_queue.push()"
      ],
      "execution_count": 219,
      "outputs": []
    },
    {
      "cell_type": "code",
      "metadata": {
        "colab": {
          "base_uri": "https://localhost:8080/",
          "height": 320
        },
        "id": "yTxblmT9w3MO",
        "outputId": "01d10d4b-e2f0-4bdd-8c17-46c71f4a49fd"
      },
      "source": [
        "KGraph = ConstructKnnGraph(10, 4)\n",
        "KGraph.KnnGraph()\n",
        "for i in KGraph.G.neighbors(4):\n",
        "  print(i)\n",
        "KGraph.DrawGraph()"
      ],
      "execution_count": 222,
      "outputs": [
        {
          "output_type": "stream",
          "name": "stdout",
          "text": [
            "6\n",
            "9\n",
            "2\n",
            "1\n"
          ]
        },
        {
          "output_type": "display_data",
          "data": {
            "image/png": "[encoded data removed]",
            "text/plain": [
              "<Figure size 432x288 with 1 Axes>"
            ]
          },
          "metadata": {}
        }
      ]
    },
    {
      "cell_type": "code",
      "metadata": {
        "colab": {
          "base_uri": "https://localhost:8080/"
        },
        "id": "dBUc4R0Dd87c",
        "outputId": "06cb7f5c-0ad7-4e97-bc73-92ca09df5af3"
      },
      "source": [
        "query = KGraph.G.nodes[4]['pos']\n",
        "GraphSearch = GraphFramework(KGraph.G, query)\n",
        "GraphSearch.run()"
      ],
      "execution_count": 223,
      "outputs": [
        {
          "output_type": "stream",
          "name": "stdout",
          "text": [
            "(6, 0, 0)\n",
            "(2, 1, 0)\n",
            "update=(3, 0.32670677094099626)\n",
            "(6, 0, 0)\n",
            "(2, 1, 0)\n",
            "(3, 2, 0)\n",
            "update=(9, 0.1852828482916024)\n",
            "(6, 0, 0)\n",
            "(9, 1, 0)\n",
            "(2, 2, 0)\n",
            "(3, 3, 0)\n"
          ]
        }
      ]
    },
    {
      "cell_type": "code",
      "metadata": {
        "colab": {
          "base_uri": "https://localhost:8080/"
        },
        "id": "SZqHV1bunAsM",
        "outputId": "b8eeecb3-f073-4ac5-f108-60ab542dd0a3"
      },
      "source": [
        "pq = PriorityQueue()\n",
        "pq.push(9, 17)\n",
        "pq.push(8, 16)\n",
        "pq.push(7, 15)\n",
        "pq.push(6, 14)\n",
        "pq.push(5, 13)\n",
        "pq.push(4, 12)\n",
        "pq.push(3, 11)\n",
        "pq.push(2, 10)\n",
        "pq.traverse()"
      ],
      "execution_count": 245,
      "outputs": [
        {
          "output_type": "stream",
          "name": "stdout",
          "text": [
            "(2, 0, 0)\n",
            "(3, 1, 0)\n",
            "(4, 2, 0)\n",
            "(5, 3, 0)\n",
            "(6, 4, 0)\n",
            "(7, 5, 0)\n",
            "(8, 6, 0)\n",
            "(9, 7, 0)\n"
          ]
        }
      ]
    },
    {
      "cell_type": "code",
      "metadata": {
        "colab": {
          "base_uri": "https://localhost:8080/"
        },
        "id": "E-q42glInHfK",
        "outputId": "d3a62a14-5c2b-45a3-87e0-2b76d08155fa"
      },
      "source": [
        "pq.set_flag(3)\n",
        "pq.set_flag(6)\n",
        "pq.set_flag(7)\n",
        "pq.traverse()\n",
        "\n",
        "print(pq.pop_flag())\n",
        "print(pq.pop_flag())\n",
        "print(pq.pop_flag())\n",
        "pq.push(14, 2)\n",
        "pq.push(13, 1)\n",
        "pq.push(12, 0)\n",
        "pq.traverse()\n",
        "print(pq.pop_flag())\n",
        "print(pq.pop_flag())\n",
        "print(pq.pop_flag())"
      ],
      "execution_count": 246,
      "outputs": [
        {
          "output_type": "stream",
          "name": "stdout",
          "text": [
            "(2, 0, 0)\n",
            "(3, 1, 1)\n",
            "(4, 2, 0)\n",
            "(5, 3, 0)\n",
            "(6, 4, 1)\n",
            "(7, 5, 1)\n",
            "(8, 6, 0)\n",
            "(9, 7, 0)\n",
            "2\n",
            "4\n",
            "5\n",
            "(12, 0, 0)\n",
            "(13, 1, 0)\n",
            "(14, 2, 0)\n",
            "(8, 3, 0)\n",
            "(9, 4, 0)\n",
            "12\n",
            "13\n",
            "14\n"
          ]
        }
      ]
    }
  ]
}