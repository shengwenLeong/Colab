{
  "nbformat": 4,
  "nbformat_minor": 0,
  "metadata": {
    "colab": {
      "name": "GraphSearch.ipynb",
      "provenance": [],
      "collapsed_sections": [],
      "authorship_tag": "ABX9TyO0hS1ENkJeURWIWwgXFiDT",
      "include_colab_link": true
    },
    "kernelspec": {
      "name": "python3",
      "display_name": "Python 3"
    },
    "language_info": {
      "name": "python"
    }
  },
  "cells": [
    {
      "cell_type": "markdown",
      "metadata": {
        "id": "view-in-github",
        "colab_type": "text"
      },
      "source": [
        "<a href=\"https://colab.research.google.com/github/shengwenLeong/Colab/blob/main/GraphSearch.ipynb\" target=\"_parent\"><img src=\"https://colab.research.google.com/assets/colab-badge.svg\" alt=\"Open In Colab\"/></a>"
      ]
    },
    {
      "cell_type": "code",
      "metadata": {
        "id": "5voXs49xJIiJ"
      },
      "source": [
        "import networkx as nx\n",
        "import matplotlib.pyplot as plt\n",
        "import numpy as np\n",
        "from scipy.spatial.distance import pdist, squareform"
      ],
      "execution_count": 3,
      "outputs": []
    },
    {
      "cell_type": "code",
      "metadata": {
        "id": "zsb0m5-gVuSL"
      },
      "source": [
        "class ConstructKnnGraph:\n",
        "  def __init__(self, vertex_number, k_value):\n",
        "    self.G = nx.DiGraph()\n",
        "    self.vertex_number = vertex_number\n",
        "    self.k_value = k_value\n",
        "  \n",
        "  def KnnGraph(self):\n",
        "    data = np.random.rand(self.vertex_number,2)\n",
        "    for i in range(data.shape[0]):\n",
        "      self.G.add_node(i, pos=(data[i][0], data[i][1]))\n",
        "      self.G.add_node(i, prop=1)\n",
        "      self.G.add_node(i, accum=0)\n",
        "    for i in range(data.shape[0]):\n",
        "      query = data[i]\n",
        "      dist = {}\n",
        "      for t in range(data.shape[0]):\n",
        "        if t==i:\n",
        "          continue\n",
        "        dist[t] = np.linalg.norm(data[t] - query)\n",
        "        #print(\"query={}, nn={}, distance={}\".format(i,t,dist))\n",
        "      vertexSort = sorted(dist.items(), key=lambda dist:dist[1], reverse=False)[:self.k_value]\n",
        "      for vertex in vertexSort:\n",
        "        self.G.add_edge(i, vertex[0])\n",
        "        #print(\"edge=({},{})\".format(i, vertex[0]))\n",
        "  def DrawGraph(self):\n",
        "    node_pos = nx.get_node_attributes(self.G, 'pos')\n",
        "    nx.draw_networkx(self.G, node_pos)\n",
        "    # Show the plot\n",
        "    plt.show()"
      ],
      "execution_count": 4,
      "outputs": []
    },
    {
      "cell_type": "code",
      "metadata": {
        "colab": {
          "base_uri": "https://localhost:8080/",
          "height": 248
        },
        "id": "dYsjjx3zWxsD",
        "outputId": "e80e8dd5-505b-4fb4-8ecb-ec1b7298d5ca"
      },
      "source": [
        "KGraph = ConstructKnnGraph(10, 4)\n",
        "KGraph.KnnGraph()\n",
        "KGraph.DrawGraph()"
      ],
      "execution_count": 5,
      "outputs": [
        {
          "output_type": "display_data",
          "data": {
            "image/png": "[encoded data removed]",
            "text/plain": [
              "<Figure size 432x288 with 1 Axes>"
            ]
          },
          "metadata": {}
        }
      ]
    },
    {
      "cell_type": "code",
      "metadata": {
        "id": "VBhaJqqI6IXI"
      },
      "source": [
        "import sys\n",
        "MAX_PROP = sys.maxsize - 1\n",
        "class GraphFramework:\n",
        "  def __init__(self, inputGraph):\n",
        "    self.G = inputGraph\n",
        "    self.edges = self.G.edges()\n",
        "    self.update = []\n",
        "    self.vertex = self.G.nodes()\n",
        "    self.BIT_MASK = 0x80000000\n",
        "  \n",
        "  def initProperty(self, srcProp):\n",
        "    return srcProp + 1 #the level of bfs\n",
        "\n",
        "  def reset_nodes_attribute(self):\n",
        "    for i in self.vertex:\n",
        "      self.G.add_node(i, accum=MAX_PROP)\n",
        "\n",
        "  def Scatter(self, weight=None, srcProp=None):\n",
        "    return srcProp\n",
        "\n",
        "  def Gather(self, ori, dst_value):\n",
        "    if ((((ori & ~self.BIT_MASK) > (dst_value & ~self.BIT_MASK)) and (dst_value != 0)) or (ori == 0x0)):\n",
        "      return dst_value\n",
        "    else:\n",
        "      return ori\n",
        "    #return ((((ori & ~self.BIT_MASK) > (dst_value & ~self.BIT_MASK)) && (dst_value != 0)) || (ori == 0x0)) ? (dst_value) : (ori)\n",
        "\n",
        "  def Apply(self, accum, value):\n",
        "    update = 0\n",
        "    uProp = accum\n",
        "    wProp = 0\n",
        "    if (((value & self.BIT_MASK) == self.BIT_MASK) and (uProp == MAX_PROP)):\n",
        "      print(\"enter this stage\")\n",
        "      iter = 1\n",
        "      wProp = value\n",
        "    else:\n",
        "      iter = 0\n",
        "      wProp = uProp & 0x7FFFFFFF\n",
        "    update = wProp\n",
        "    return iter, update\n",
        "\n",
        "\n",
        "  def run(self):\n",
        "    iter = 1\n",
        "    count = 0\n",
        "    while iter and count < 10:\n",
        "      for src, dst in self.edges:\n",
        "        print(\"edge=({},{})\".format(src,dst))\n",
        "        srcProp  = self.G.nodes[src]['prop']\n",
        "        srcProp  = self.initProperty(srcProp)\n",
        "        dst_value = self.Scatter(srcProp=srcProp)\n",
        "        self.update.append((src, dst, dst_value))\n",
        "\n",
        "      for src, dst, dst_value in self.update:\n",
        "        print(\"update=({},{})\".format(src, dst))\n",
        "        ori = self.G.nodes[dst]['accum']\n",
        "        print(\"input value=({},{})\".format(ori, dst_value))\n",
        "        accum = self.Gather(ori, dst_value)\n",
        "        print(\"dst={}, accum=({})\".format(dst, accum))\n",
        "        self.G.add_node(dst, accum=accum)\n",
        "      iter = 0\n",
        "      for v in self.vertex:\n",
        "        accum = self.G.nodes[v]['accum']\n",
        "        value = self.G.nodes[v]['prop']\n",
        "        print(\"vertex={}, apply_input=({},{})\".format(v,accum,value))\n",
        "        iter_, result = self.Apply(accum, value)\n",
        "        print(\"vertex={},iter_={},apply={}\".format(v,iter_,result))\n",
        "        self.G.nodes[v]['prop'] = result\n",
        "        iter = iter + iter_\n",
        "      self.update.clear()\n",
        "      print(list(self.G.nodes(data=True)))\n",
        "      count = count + 1"
      ],
      "execution_count": 40,
      "outputs": []
    },
    {
      "cell_type": "code",
      "metadata": {
        "colab": {
          "base_uri": "https://localhost:8080/"
        },
        "id": "F-WtceyDzER4",
        "outputId": "e3a72c19-5618-4137-8629-9649e320116f"
      },
      "source": [
        "G = nx.DiGraph()\n",
        "for i in range(7):\n",
        "  G.add_node(i, prop=MAX_PROP)\n",
        "  G.add_node(i, accum=MAX_PROP)\n",
        "\n",
        "G.add_edge(0,1)\n",
        "G.add_edge(0,2)\n",
        "G.add_edge(1,3)\n",
        "G.add_edge(1,4)\n",
        "G.add_edge(2,5)\n",
        "G.add_edge(2,6)\n",
        "\n",
        "root = 0\n",
        "edges = list(nx.bfs_edges(G, root))\n",
        "nodes = [root] + [v for u, v in edges]\n",
        "print(len(nodes))\n",
        "print(nodes)\n",
        "\n",
        "G.add_node(0, prop=0x80000001)\n",
        "G.add_node(0, accum=0x80000001)\n",
        "graphprocess = GraphFramework(G)\n",
        "graphprocess.run()\n",
        "\n",
        "for i, value in nx.get_node_attributes(G, 'prop').items():\n",
        "  print(\"i={}, level={}\".format(i, value))"
      ],
      "execution_count": 43,
      "outputs": [
        {
          "output_type": "stream",
          "name": "stdout",
          "text": [
            "7\n",
            "[0, 1, 2, 3, 4, 5, 6]\n",
            "edge=(0,1)\n",
            "edge=(0,2)\n",
            "edge=(1,3)\n",
            "edge=(1,4)\n",
            "edge=(2,5)\n",
            "edge=(2,6)\n",
            "update=(0,1)\n",
            "input value=(9223372036854775806,2147483650)\n",
            "dst=1, accum=(2147483650)\n",
            "update=(0,2)\n",
            "input value=(9223372036854775806,2147483650)\n",
            "dst=2, accum=(2147483650)\n",
            "update=(1,3)\n",
            "input value=(9223372036854775806,9223372036854775807)\n",
            "dst=3, accum=(9223372036854775806)\n",
            "update=(1,4)\n",
            "input value=(9223372036854775806,9223372036854775807)\n",
            "dst=4, accum=(9223372036854775806)\n",
            "update=(2,5)\n",
            "input value=(9223372036854775806,9223372036854775807)\n",
            "dst=5, accum=(9223372036854775806)\n",
            "update=(2,6)\n",
            "input value=(9223372036854775806,9223372036854775807)\n",
            "dst=6, accum=(9223372036854775806)\n",
            "vertex=0, apply_input=(2147483649,2147483649)\n",
            "vertex=0,iter_=0,apply=1\n",
            "vertex=1, apply_input=(2147483650,9223372036854775806)\n",
            "vertex=1,iter_=0,apply=2\n",
            "vertex=2, apply_input=(2147483650,9223372036854775806)\n",
            "vertex=2,iter_=0,apply=2\n",
            "vertex=3, apply_input=(9223372036854775806,9223372036854775806)\n",
            "enter this stage\n",
            "vertex=3,iter_=1,apply=9223372036854775806\n",
            "vertex=4, apply_input=(9223372036854775806,9223372036854775806)\n",
            "enter this stage\n",
            "vertex=4,iter_=1,apply=9223372036854775806\n",
            "vertex=5, apply_input=(9223372036854775806,9223372036854775806)\n",
            "enter this stage\n",
            "vertex=5,iter_=1,apply=9223372036854775806\n",
            "vertex=6, apply_input=(9223372036854775806,9223372036854775806)\n",
            "enter this stage\n",
            "vertex=6,iter_=1,apply=9223372036854775806\n",
            "[(0, {'prop': 1, 'accum': 2147483649}), (1, {'prop': 2, 'accum': 2147483650}), (2, {'prop': 2, 'accum': 2147483650}), (3, {'prop': 9223372036854775806, 'accum': 9223372036854775806}), (4, {'prop': 9223372036854775806, 'accum': 9223372036854775806}), (5, {'prop': 9223372036854775806, 'accum': 9223372036854775806}), (6, {'prop': 9223372036854775806, 'accum': 9223372036854775806})]\n",
            "edge=(0,1)\n",
            "edge=(0,2)\n",
            "edge=(1,3)\n",
            "edge=(1,4)\n",
            "edge=(2,5)\n",
            "edge=(2,6)\n",
            "update=(0,1)\n",
            "input value=(2147483650,2)\n",
            "dst=1, accum=(2147483650)\n",
            "update=(0,2)\n",
            "input value=(2147483650,2)\n",
            "dst=2, accum=(2147483650)\n",
            "update=(1,3)\n",
            "input value=(9223372036854775806,3)\n",
            "dst=3, accum=(3)\n",
            "update=(1,4)\n",
            "input value=(9223372036854775806,3)\n",
            "dst=4, accum=(3)\n",
            "update=(2,5)\n",
            "input value=(9223372036854775806,3)\n",
            "dst=5, accum=(3)\n",
            "update=(2,6)\n",
            "input value=(9223372036854775806,3)\n",
            "dst=6, accum=(3)\n",
            "vertex=0, apply_input=(2147483649,1)\n",
            "vertex=0,iter_=0,apply=1\n",
            "vertex=1, apply_input=(2147483650,2)\n",
            "vertex=1,iter_=0,apply=2\n",
            "vertex=2, apply_input=(2147483650,2)\n",
            "vertex=2,iter_=0,apply=2\n",
            "vertex=3, apply_input=(3,9223372036854775806)\n",
            "vertex=3,iter_=0,apply=3\n",
            "vertex=4, apply_input=(3,9223372036854775806)\n",
            "vertex=4,iter_=0,apply=3\n",
            "vertex=5, apply_input=(3,9223372036854775806)\n",
            "vertex=5,iter_=0,apply=3\n",
            "vertex=6, apply_input=(3,9223372036854775806)\n",
            "vertex=6,iter_=0,apply=3\n",
            "[(0, {'prop': 1, 'accum': 2147483649}), (1, {'prop': 2, 'accum': 2147483650}), (2, {'prop': 2, 'accum': 2147483650}), (3, {'prop': 3, 'accum': 3}), (4, {'prop': 3, 'accum': 3}), (5, {'prop': 3, 'accum': 3}), (6, {'prop': 3, 'accum': 3})]\n",
            "i=0, level=1\n",
            "i=1, level=2\n",
            "i=2, level=2\n",
            "i=3, level=3\n",
            "i=4, level=3\n",
            "i=5, level=3\n",
            "i=6, level=3\n"
          ]
        }
      ]
    },
    {
      "cell_type": "code",
      "metadata": {
        "colab": {
          "base_uri": "https://localhost:8080/"
        },
        "id": "ZYh61hVKNpEX",
        "outputId": "3cb9f267-bbf3-41cf-9242-83eb814edb4f"
      },
      "source": [
        "G = nx.DiGraph()\n",
        "for i in range(4):\n",
        "  G.add_node(i, prop=MAX_PROP)\n",
        "  G.add_node(i, accum=MAX_PROP)\n",
        "\n",
        "G.add_edge(0,1)\n",
        "G.add_edge(0,2)\n",
        "G.add_edge(1,2)\n",
        "G.add_edge(2,0)\n",
        "G.add_edge(2,3)\n",
        "G.add_edge(3,3)\n",
        "\n",
        "root = 2\n",
        "edges = list(nx.bfs_edges(G, root))\n",
        "nodes = [root] + [v for u, v in edges]\n",
        "print(len(nodes))\n",
        "print(nodes)\n",
        "\n",
        "G.add_node(2, prop=0x80000001)\n",
        "G.add_node(2, accum=0x80000001)\n",
        "print(\"init_value={}\".format(0x80000001))\n",
        "graphprocess = GraphFramework(G)\n",
        "graphprocess.run()\n",
        "\n",
        "for i, value in nx.get_node_attributes(G, 'prop').items():\n",
        "  print(\"i={}, level={}\".format(i, value))"
      ],
      "execution_count": 41,
      "outputs": [
        {
          "output_type": "stream",
          "name": "stdout",
          "text": [
            "4\n",
            "[2, 0, 3, 1]\n",
            "init_value=2147483649\n",
            "edge=(0,1)\n",
            "edge=(0,2)\n",
            "edge=(1,2)\n",
            "edge=(2,0)\n",
            "edge=(2,3)\n",
            "edge=(3,3)\n",
            "update=(0,1)\n",
            "input value=(9223372036854775806,9223372036854775807)\n",
            "dst=1, accum=(9223372036854775806)\n",
            "update=(0,2)\n",
            "input value=(2147483649,9223372036854775807)\n",
            "dst=2, accum=(2147483649)\n",
            "update=(1,2)\n",
            "input value=(2147483649,9223372036854775807)\n",
            "dst=2, accum=(2147483649)\n",
            "update=(2,0)\n",
            "input value=(9223372036854775806,2147483650)\n",
            "dst=0, accum=(2147483650)\n",
            "update=(2,3)\n",
            "input value=(9223372036854775806,2147483650)\n",
            "dst=3, accum=(2147483650)\n",
            "update=(3,3)\n",
            "input value=(2147483650,9223372036854775807)\n",
            "dst=3, accum=(2147483650)\n",
            "vertex=0, apply_input=(2147483650,9223372036854775806)\n",
            "vertex=0,iter_=0,apply=2\n",
            "vertex=1, apply_input=(9223372036854775806,9223372036854775806)\n",
            "enter this stage\n",
            "vertex=1,iter_=1,apply=9223372036854775806\n",
            "vertex=2, apply_input=(2147483649,2147483649)\n",
            "vertex=2,iter_=0,apply=1\n",
            "vertex=3, apply_input=(2147483650,9223372036854775806)\n",
            "vertex=3,iter_=0,apply=2\n",
            "[(0, {'prop': 2, 'accum': 2147483650}), (1, {'prop': 9223372036854775806, 'accum': 9223372036854775806}), (2, {'prop': 1, 'accum': 2147483649}), (3, {'prop': 2, 'accum': 2147483650})]\n",
            "edge=(0,1)\n",
            "edge=(0,2)\n",
            "edge=(1,2)\n",
            "edge=(2,0)\n",
            "edge=(2,3)\n",
            "edge=(3,3)\n",
            "update=(0,1)\n",
            "input value=(9223372036854775806,3)\n",
            "dst=1, accum=(3)\n",
            "update=(0,2)\n",
            "input value=(2147483649,3)\n",
            "dst=2, accum=(2147483649)\n",
            "update=(1,2)\n",
            "input value=(2147483649,9223372036854775807)\n",
            "dst=2, accum=(2147483649)\n",
            "update=(2,0)\n",
            "input value=(2147483650,2)\n",
            "dst=0, accum=(2147483650)\n",
            "update=(2,3)\n",
            "input value=(2147483650,2)\n",
            "dst=3, accum=(2147483650)\n",
            "update=(3,3)\n",
            "input value=(2147483650,3)\n",
            "dst=3, accum=(2147483650)\n",
            "vertex=0, apply_input=(2147483650,2)\n",
            "vertex=0,iter_=0,apply=2\n",
            "vertex=1, apply_input=(3,9223372036854775806)\n",
            "vertex=1,iter_=0,apply=3\n",
            "vertex=2, apply_input=(2147483649,1)\n",
            "vertex=2,iter_=0,apply=1\n",
            "vertex=3, apply_input=(2147483650,2)\n",
            "vertex=3,iter_=0,apply=2\n",
            "[(0, {'prop': 2, 'accum': 2147483650}), (1, {'prop': 3, 'accum': 3}), (2, {'prop': 1, 'accum': 2147483649}), (3, {'prop': 2, 'accum': 2147483650})]\n",
            "i=0, level=2\n",
            "i=1, level=3\n",
            "i=2, level=1\n",
            "i=3, level=2\n"
          ]
        }
      ]
    },
    {
      "cell_type": "code",
      "metadata": {
        "colab": {
          "base_uri": "https://localhost:8080/"
        },
        "id": "hpAiC1XWYCEV",
        "outputId": "593d5ccd-c27a-4897-a728-1cd87077f677"
      },
      "source": [
        "root = 0\n",
        "edges = list(nx.bfs_edges(KGraph.G, 0))\n",
        "nodes = [root] + [v for u, v in edges]\n",
        "print(len(nodes))\n",
        "print(nodes)"
      ],
      "execution_count": 92,
      "outputs": [
        {
          "output_type": "stream",
          "name": "stdout",
          "text": [
            "10\n",
            "[0, 4, 2, 6, 9, 1, 8, 5, 7, 3]\n"
          ]
        }
      ]
    },
    {
      "cell_type": "code",
      "metadata": {
        "colab": {
          "base_uri": "https://localhost:8080/"
        },
        "id": "9srDTxhkJqR5",
        "outputId": "d70afb1f-3c31-404a-b89a-d388bf9bc097"
      },
      "source": [
        "G = nx.DiGraph()\n",
        "data = np.random.rand(10,2)\n",
        "dataSet = {}\n",
        "for i in range(data.shape[0]):\n",
        "  dataSet[i] = data[i]\n",
        "  G.add_node(i, pos=(data[i][0], data[i][1]))\n",
        "  print(data[i])"
      ],
      "execution_count": null,
      "outputs": [
        {
          "output_type": "stream",
          "name": "stdout",
          "text": [
            "[0.8135964  0.91249162]\n",
            "[0.05686753 0.32124302]\n",
            "[0.98859806 0.39388879]\n",
            "[0.83505196 0.84756349]\n",
            "[0.69730069 0.52685776]\n",
            "[0.03301789 0.33515292]\n",
            "[0.25169853 0.33479391]\n",
            "[0.71457457 0.45766219]\n",
            "[0.75080974 0.54800307]\n",
            "[0.38596624 0.46812933]\n"
          ]
        }
      ]
    },
    {
      "cell_type": "code",
      "metadata": {
        "colab": {
          "base_uri": "https://localhost:8080/"
        },
        "id": "yMsRfXAzOAfS",
        "outputId": "a1d52f3f-fc3b-4037-8394-83820dde9135"
      },
      "source": [
        "graph_k = 4\n",
        "for i in range(data.shape[0]):\n",
        "  query = data[i]\n",
        "  dist = {}\n",
        "  for t in range(data.shape[0]):\n",
        "    if t==i:\n",
        "      continue\n",
        "    dist[t] = np.linalg.norm(data[t] - query)\n",
        "    #print(\"query={}, nn={}, distance={}\".format(i,t,dist))\n",
        "  vertexSort = sorted(dist.items(), key=lambda dist:dist[1], reverse=False)[:4]\n",
        "  for vertex in vertexSort:\n",
        "    G.add_edge(i, vertex[0])\n",
        "    print(\"edge=({},{})\".format(i, vertex[0]))"
      ],
      "execution_count": null,
      "outputs": [
        {
          "output_type": "stream",
          "name": "stdout",
          "text": [
            "edge=(0,3)\n",
            "edge=(0,8)\n",
            "edge=(0,4)\n",
            "edge=(0,7)\n",
            "edge=(1,5)\n",
            "edge=(1,6)\n",
            "edge=(1,9)\n",
            "edge=(1,7)\n",
            "edge=(2,7)\n",
            "edge=(2,8)\n",
            "edge=(2,4)\n",
            "edge=(2,3)\n",
            "edge=(3,0)\n",
            "edge=(3,8)\n",
            "edge=(3,4)\n",
            "edge=(3,7)\n",
            "edge=(4,8)\n",
            "edge=(4,7)\n",
            "edge=(4,9)\n",
            "edge=(4,2)\n",
            "edge=(5,1)\n",
            "edge=(5,6)\n",
            "edge=(5,9)\n",
            "edge=(5,4)\n",
            "edge=(6,9)\n",
            "edge=(6,1)\n",
            "edge=(6,5)\n",
            "edge=(6,7)\n",
            "edge=(7,4)\n",
            "edge=(7,8)\n",
            "edge=(7,2)\n",
            "edge=(7,9)\n",
            "edge=(8,4)\n",
            "edge=(8,7)\n",
            "edge=(8,2)\n",
            "edge=(8,3)\n",
            "edge=(9,6)\n",
            "edge=(9,4)\n",
            "edge=(9,7)\n",
            "edge=(9,1)\n"
          ]
        }
      ]
    },
    {
      "cell_type": "code",
      "metadata": {
        "colab": {
          "base_uri": "https://localhost:8080/",
          "height": 248
        },
        "id": "r9FrJAOCKiTL",
        "outputId": "b4f2e8a9-f32f-40eb-bb58-ee053a6c9a88"
      },
      "source": [
        "node_pos = nx.get_node_attributes(G, 'pos')\n",
        "nx.draw_networkx(G, node_pos)\n",
        "# Show the plot\n",
        "plt.show()"
      ],
      "execution_count": null,
      "outputs": [
        {
          "output_type": "display_data",
          "data": {
            "image/png": "[encoded data removed]",
            "text/plain": [
              "<Figure size 432x288 with 1 Axes>"
            ]
          },
          "metadata": {}
        }
      ]
    },
    {
      "cell_type": "code",
      "metadata": {
        "id": "tD13k-5UNhRz",
        "colab": {
          "base_uri": "https://localhost:8080/",
          "height": 248
        },
        "outputId": "e7f9e887-2b4c-4cc8-971f-f9f2d7c49867"
      },
      "source": [
        "G = nx.Graph()\n",
        "for i in range(4):\n",
        "  G.add_node(i, prop=1)\n",
        "  G.add_node(i, accum=0)\n",
        "for i in range(4):\n",
        "  for j in range(4):\n",
        "    G.add_edge(i,j)\n",
        "'''\n",
        "G.add_edge(0,1)\n",
        "G.add_edge(0,2)\n",
        "G.add_edge(1,2)\n",
        "G.add_edge(2,0)\n",
        "G.add_edge(2,3)\n",
        "G.add_edge(3,3)\n",
        "'''\n",
        "nx.draw_networkx(G)"
      ],
      "execution_count": 26,
      "outputs": [
        {
          "output_type": "display_data",
          "data": {
            "image/png": "[encoded data removed]",
            "text/plain": [
              "<Figure size 432x288 with 1 Axes>"
            ]
          },
          "metadata": {}
        }
      ]
    },
    {
      "cell_type": "code",
      "metadata": {
        "id": "x8ttHcCk4CX2"
      },
      "source": [
        ""
      ],
      "execution_count": null,
      "outputs": []
    },
    {
      "cell_type": "code",
      "metadata": {
        "colab": {
          "base_uri": "https://localhost:8080/"
        },
        "id": "x6ZyXx8H9Xyi",
        "outputId": "938110d9-1139-46df-df02-e57aa2395650"
      },
      "source": [
        "edges = G.edges()\n",
        "for src, dst in G.edges():\n",
        "  print(src)\n",
        "  print(dst)"
      ],
      "execution_count": 11,
      "outputs": [
        {
          "output_type": "stream",
          "name": "stdout",
          "text": [
            "0\n",
            "1\n",
            "0\n",
            "2\n",
            "1\n",
            "2\n",
            "2\n",
            "3\n",
            "3\n",
            "3\n"
          ]
        }
      ]
    },
    {
      "cell_type": "code",
      "metadata": {
        "colab": {
          "base_uri": "https://localhost:8080/"
        },
        "id": "Gm88vVCSbunP",
        "outputId": "50db3529-ee36-4b11-ad9f-cb11bd6a922a"
      },
      "source": [
        "root = 2\n",
        "edges = list(nx.bfs_edges(G, root))\n",
        "nodes = [root] + [v for u, v in edges]\n",
        "print(len(nodes))\n",
        "print(nodes)"
      ],
      "execution_count": 5,
      "outputs": [
        {
          "output_type": "stream",
          "name": "stdout",
          "text": [
            "4\n",
            "[2, 0, 1, 3]\n"
          ]
        }
      ]
    }
  ]
}